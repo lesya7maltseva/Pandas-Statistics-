{
  "nbformat": 4,
  "nbformat_minor": 0,
  "metadata": {
    "colab": {
      "provenance": [],
      "authorship_tag": "ABX9TyNdIt0faxa0eMu5TPqz9Muj",
      "include_colab_link": true
    },
    "kernelspec": {
      "name": "python3",
      "display_name": "Python 3"
    },
    "language_info": {
      "name": "python"
    }
  },
  "cells": [
    {
      "cell_type": "markdown",
      "metadata": {
        "id": "view-in-github",
        "colab_type": "text"
      },
      "source": [
        "<a href=\"https://colab.research.google.com/github/lesya7maltseva/Pandas-Statistics-/blob/main/%D0%9E%D0%9E%D0%9F.ipynb\" target=\"_parent\"><img src=\"https://colab.research.google.com/assets/colab-badge.svg\" alt=\"Open In Colab\"/></a>"
      ]
    },
    {
      "cell_type": "code",
      "execution_count": null,
      "metadata": {
        "id": "P5hV781mCbc0"
      },
      "outputs": [],
      "source": [
        "class StepCounter():\n",
        "    def __init__(self):\n",
        "        self.__steps = 0\n",
        "\n",
        "    def increase(self,steps):\n",
        "        self.steps += steps\n",
        "        return self.steps\n",
        "\n",
        "    def get_count(self):\n",
        "        return self.steps\n",
        "\n",
        "    def reset(self):\n",
        "        self.steps = 0\n",
        "        return self.steps"
      ]
    },
    {
      "cell_type": "code",
      "source": [
        "s = StepCounter()"
      ],
      "metadata": {
        "id": "PnOBuUbACi4t"
      },
      "execution_count": null,
      "outputs": []
    },
    {
      "cell_type": "code",
      "source": [
        "s.get_count()"
      ],
      "metadata": {
        "colab": {
          "base_uri": "https://localhost:8080/"
        },
        "id": "nBhvqezZC9v3",
        "outputId": "993c8246-b4c2-468a-a2fe-c954ce6957b2"
      },
      "execution_count": null,
      "outputs": [
        {
          "output_type": "execute_result",
          "data": {
            "text/plain": [
              "0"
            ]
          },
          "metadata": {},
          "execution_count": 6
        }
      ]
    },
    {
      "cell_type": "code",
      "source": [
        "class BankAccount():\n",
        "    def __init__(self, account_num, password):\n",
        "        self.__account = account_num\n",
        "        self.__password = password\n",
        "        self.__balance = 0.0\n",
        "\n",
        "    def check_pass (self, password):\n",
        "        if self.__password == password:\n",
        "            return True\n",
        "        else: return False\n",
        "\n",
        "    def check_balance(self, password):\n",
        "        if self.check_pass(password): return self.__balance\n",
        "        #else: return False\n",
        "\n",
        "    def withdraw(self, amount, password):\n",
        "      if self.check_pass(password): return self.__balance\n",
        "\n",
        "    def deposit(self, amount, password):\n",
        "      if self.check_pass(password) :\n",
        "        self.__balance += amount\n",
        "        return True\n",
        "      else: return False\n",
        "\n",
        "\n",
        "\n"
      ],
      "metadata": {
        "id": "2PfGBV5yIb1A"
      },
      "execution_count": null,
      "outputs": []
    },
    {
      "cell_type": "code",
      "source": [
        "b = BankAccount(\"1234567890\", \"mypassword\")"
      ],
      "metadata": {
        "id": "wd8VZzIyIyqm"
      },
      "execution_count": null,
      "outputs": []
    },
    {
      "cell_type": "code",
      "source": [
        "b.deposit(100, \"rgawe\")"
      ],
      "metadata": {
        "id": "wehmyKnLI6oB"
      },
      "execution_count": null,
      "outputs": []
    },
    {
      "cell_type": "code",
      "source": [
        "class MyLexic:\n",
        "    company = \"IT Resume\"\n",
        "\n",
        "    def __init__(self, code, problem_id):\n",
        "        self.code = code\n",
        "        self.problem_id = problem_id\n",
        "\n",
        "    def describe(self):\n",
        "        return f\"Компания: {self.company}, код: {self.code}, номер задачи: {self.problem_id}.\"\n",
        "\n",
        "    def strip_code(self):\n",
        "        ...\n",
        "\n",
        "class MyPythonLexic(MyLexic):\n",
        "  def __init__(self, code, problem_id, version):\n",
        "    super().__init__(code, problem_id)\n",
        "    self.version = version\n",
        "  def strip_code (self):\n",
        "    return self.code.replace(' ', '').split('\\n')\n",
        "\n",
        "class MyJavaLexic(MyLexic):\n",
        "  def __init__(self, code, problem_id, platform):\n",
        "     super().__init__(code, problem_id)\n",
        "     self.platform = platform\n",
        "\n",
        "  def strip_code(self):\n",
        "     return self.code.strip('{').replace('}', '').split('\\n')\n"
      ],
      "metadata": {
        "id": "wEff8n7l3iKI"
      },
      "execution_count": null,
      "outputs": []
    },
    {
      "cell_type": "code",
      "source": [
        "o1 = MyJavaLexic(\"{ print(1)  }\\n  print(2)  \", 2, platform=\"SE\")\n"
      ],
      "metadata": {
        "id": "0UjzcAay7dvY"
      },
      "execution_count": null,
      "outputs": []
    },
    {
      "cell_type": "code",
      "source": [
        "print(o1.strip_code())"
      ],
      "metadata": {
        "colab": {
          "base_uri": "https://localhost:8080/"
        },
        "id": "tq1FwpN49hrI",
        "outputId": "6e248a25-d997-4fb9-bc81-36fb28118943"
      },
      "execution_count": null,
      "outputs": [
        {
          "output_type": "stream",
          "name": "stdout",
          "text": [
            "[' print(1)  ', '  print(2)  ']\n"
          ]
        }
      ]
    },
    {
      "cell_type": "code",
      "source": [
        "class Book:\n",
        "  def __init__(self, title, author, price) :\n",
        "    self.__title = title\n",
        "    self.__author = author\n",
        "    self.__price = price\n",
        "\n",
        "  @property\n",
        "  def title(self):\n",
        "    return self.__title\n",
        "\n",
        "  @title.setter\n",
        "  def title(self, title):\n",
        "    self.__title = title\n",
        "\n",
        "  @property\n",
        "  def author(self):\n",
        "    return self.__author\n",
        "\n",
        "  @author.setter\n",
        "  def author(self, author):\n",
        "    self.__author = author\n",
        "\n",
        "  @property\n",
        "  def price(self):\n",
        "    return self.__price\n",
        "\n",
        "  @price.setter\n",
        "  def price(self, price):\n",
        "    self.__price = price\n",
        "\n",
        "  @property\n",
        "  def discounted_price(self):\n",
        "    return self.price - self.price*0.01\n"
      ],
      "metadata": {
        "id": "NA5SZYCqc17G"
      },
      "execution_count": null,
      "outputs": []
    },
    {
      "cell_type": "code",
      "source": [
        "25 - 25*0.01"
      ],
      "metadata": {
        "colab": {
          "base_uri": "https://localhost:8080/"
        },
        "id": "R_QV8vuigowe",
        "outputId": "2d31420a-4ae9-4c8f-cf2f-1775e03b2fdb"
      },
      "execution_count": null,
      "outputs": [
        {
          "output_type": "execute_result",
          "data": {
            "text/plain": [
              "24.75"
            ]
          },
          "metadata": {},
          "execution_count": 65
        }
      ]
    },
    {
      "cell_type": "code",
      "source": [
        "class UniqueContainer():\n",
        "  def __init__ (self):\n",
        "    self.elements = []\n",
        "\n",
        "  def __contains___(self, element):\n",
        "      return element in self.elements\n",
        "\n",
        "  def __iter__(self):\n",
        "    return iter(self.elements)\n",
        "\n",
        "  def add (self, element):\n",
        "    if element not in self.elements:\n",
        "      self.elements.append(element)\n"
      ],
      "metadata": {
        "id": "ebHh4ZReY18o"
      },
      "execution_count": null,
      "outputs": []
    },
    {
      "cell_type": "code",
      "source": [
        "c = UniqueContainer()"
      ],
      "metadata": {
        "id": "6AsNyFsJbH9z"
      },
      "execution_count": null,
      "outputs": []
    },
    {
      "cell_type": "code",
      "source": [
        "c.add(7)"
      ],
      "metadata": {
        "id": "fU6WIV-MbNaR"
      },
      "execution_count": null,
      "outputs": []
    },
    {
      "cell_type": "code",
      "source": [
        "c.elements"
      ],
      "metadata": {
        "colab": {
          "base_uri": "https://localhost:8080/"
        },
        "id": "v8F8YW5cbRlt",
        "outputId": "db276a70-4a98-4b3c-e648-a0b7f4a560c2"
      },
      "execution_count": null,
      "outputs": [
        {
          "output_type": "execute_result",
          "data": {
            "text/plain": [
              "[5, 7]"
            ]
          },
          "metadata": {},
          "execution_count": 9
        }
      ]
    },
    {
      "cell_type": "code",
      "source": [
        "print(iter([5,8,9,10]))"
      ],
      "metadata": {
        "colab": {
          "base_uri": "https://localhost:8080/"
        },
        "id": "cMLrpoPQcQiS",
        "outputId": "d05f4fb2-321f-4a13-b778-63cb0603332a"
      },
      "execution_count": null,
      "outputs": [
        {
          "output_type": "stream",
          "name": "stdout",
          "text": [
            "<list_iterator object at 0x7811f87941c0>\n"
          ]
        }
      ]
    },
    {
      "cell_type": "code",
      "source": [
        "class StringWrapper:\n",
        "  def __init__(self, string) :\n",
        "     self.string = string\n",
        "\n",
        "  def __len__(self):\n",
        "    return len(self.string)\n",
        "\n",
        "  def __getitem__(self,index):\n",
        "    return self.string[index]\n",
        "\n",
        "  def __setitem__(self, index, item):\n",
        "    self.string = self.string[:index] + item + self.string[index+1:]\n",
        "\n",
        "\n"
      ],
      "metadata": {
        "id": "jvtUZNatd4bZ"
      },
      "execution_count": null,
      "outputs": []
    },
    {
      "cell_type": "code",
      "source": [
        "d = StringWrapper(\"Pytnon\")"
      ],
      "metadata": {
        "id": "etl_xqRjhZA2"
      },
      "execution_count": null,
      "outputs": []
    },
    {
      "cell_type": "code",
      "source": [
        "d[1]"
      ],
      "metadata": {
        "colab": {
          "base_uri": "https://localhost:8080/",
          "height": 35
        },
        "id": "MNAkd6_ChuPg",
        "outputId": "1cd702b7-fa00-478f-ab48-b3ad24d82ff1"
      },
      "execution_count": null,
      "outputs": [
        {
          "output_type": "execute_result",
          "data": {
            "text/plain": [
              "'y'"
            ],
            "application/vnd.google.colaboratory.intrinsic+json": {
              "type": "string"
            }
          },
          "metadata": {},
          "execution_count": 28
        }
      ]
    },
    {
      "cell_type": "code",
      "source": [
        "class StringWrapper:\n",
        "    def __init__(self, string):\n",
        "        self.string = string\n",
        "\n",
        "    def __getitem__(self, index):\n",
        "        return self.string[index]\n",
        "\n",
        "    def __setitem__(self, index, value):\n",
        "        self.string = self.string[:index] + value + self.string[index+1:]\n",
        "\n",
        "    def __len__(self):\n",
        "        return len(self.string)"
      ],
      "metadata": {
        "id": "HnV4mwHfiumy"
      },
      "execution_count": null,
      "outputs": []
    },
    {
      "cell_type": "code",
      "source": [
        "import math\n",
        "math.pi"
      ],
      "metadata": {
        "colab": {
          "base_uri": "https://localhost:8080/"
        },
        "id": "eqto_ReBApHR",
        "outputId": "3759e40c-0750-47d7-b75b-92a462fc2994"
      },
      "execution_count": null,
      "outputs": [
        {
          "output_type": "execute_result",
          "data": {
            "text/plain": [
              "3.141592653589793"
            ]
          },
          "metadata": {},
          "execution_count": 33
        }
      ]
    },
    {
      "cell_type": "markdown",
      "source": [
        "Реализуйте классы Circle и Rectangle, которые представляют геометрические фигуры. Класс Circle должен иметь атрибуты radius и pi, а класс Rectangle - атрибуты width и height.\n",
        "\n",
        "Для обоих классов:\n",
        "\n",
        "\n",
        "Переопределите магический метод __eq__, чтобы можно было сравнивать фигуры по их площади. Фигуры должны считаться равными, если их площади равны.\n",
        "\n",
        "Переопределите магический метод __lt__, чтобы можно было сравнивать фигуры по их периметру. Фигуры должны считаться меньше, если их периметры меньше.\n",
        "\n",
        "Также создайте класс ShapeCollection, который представляет контейнер для хранения геометрических фигур. Клас должен иметь следующие методы:\n",
        "\n",
        "\n",
        "add_shape(shape): добавляет геометрическую фигуру в коллекцию.\n",
        "\n",
        "find_largest_shape(): возвращает фигуру с наибольшей площадью.\n",
        "\n",
        "find_smallest_perimeter_shape(): возвращает фигуру с наименьшим периметром."
      ],
      "metadata": {
        "id": "LLqSz2x_-UHx"
      }
    },
    {
      "cell_type": "code",
      "source": [
        "import math\n",
        "\n",
        "class Circle:\n",
        "    def __init__(self, radius):\n",
        "      self.radius = radius\n",
        "      self.pi = math.pi\n",
        "\n",
        "\n",
        "    # Введите ваше решение ниже\n",
        "\n",
        "    def calculate_area(self):\n",
        "      return self.pi * self.radius ** 2\n",
        "\n",
        "    def calculate_perimeter(self):\n",
        "      return 2 * self.pi * self.radius\n",
        "\n",
        "    def __eq__(self, other):\n",
        "      return self.calculate_area() == other.calculate_area()\n",
        "\n",
        "    def __lt__(self, other):\n",
        "      return self.calculate_perimeter() > other.calculate_perimeter()\n",
        "\n",
        "\n",
        "class Rectangle:\n",
        "    def __init__ (self, width, height):\n",
        "      self.width = width\n",
        "      self.height = height\n",
        "\n",
        "    # Введите ваше решение ниже\n",
        "\n",
        "    def calculate_area(self):\n",
        "      return self.width * self.height\n",
        "\n",
        "    def calculate_perimeter(self):\n",
        "      return 2 * (self.width + self.height)\n",
        "\n",
        "    def __eq__(self, other):\n",
        "      return self.calculate_area() == other.calculate_area()\n",
        "\n",
        "    def __lt__(self, other):\n",
        "      return self.calculate_perimeter() > other.calculate_perimeter()\n",
        "\n",
        "# Введите ваше решение ниже\n",
        "\n",
        "class ShapeCollection:\n",
        "  def __init__(self):\n",
        "    self.shape_coolection = []\n",
        "\n",
        "  def add_shape(self, shape):\n",
        "    self.shape_coolection.append(shape)\n",
        "\n",
        "  def find_largest_shape(self):\n",
        "    return max(self.shape_coolection, key = lambda x: x.calculate_area())\n",
        "\n",
        "  def find_smallest_perimeter_shape(self):\n",
        "    return min(self.shape_coolection, key = lambda x: x.calculate_perimeter())\n",
        "\n",
        "\n",
        "\n",
        "\n"
      ],
      "metadata": {
        "id": "-ArocCkR0No8"
      },
      "execution_count": null,
      "outputs": []
    },
    {
      "cell_type": "code",
      "source": [
        "a = Circle(5)\n",
        "b = Rectangle(10,15)"
      ],
      "metadata": {
        "id": "F0F1oVGYJBaW"
      },
      "execution_count": null,
      "outputs": []
    },
    {
      "cell_type": "code",
      "source": [
        "c= ShapeCollection()"
      ],
      "metadata": {
        "id": "rqUqpTGQJmW1"
      },
      "execution_count": null,
      "outputs": []
    },
    {
      "cell_type": "code",
      "source": [
        "c.add_shape(a)\n",
        "c.add_shape(b)"
      ],
      "metadata": {
        "id": "kj9h0ttTJqMD"
      },
      "execution_count": null,
      "outputs": []
    },
    {
      "cell_type": "code",
      "source": [
        "c.find_largest_shape()"
      ],
      "metadata": {
        "colab": {
          "base_uri": "https://localhost:8080/"
        },
        "id": "ZZfw9edmJyIb",
        "outputId": "4dbbdaf1-ccd6-44ac-c1f9-12bf10f63e7a"
      },
      "execution_count": null,
      "outputs": [
        {
          "output_type": "execute_result",
          "data": {
            "text/plain": [
              "<__main__.Rectangle at 0x7811e590bb10>"
            ]
          },
          "metadata": {},
          "execution_count": 68
        }
      ]
    },
    {
      "cell_type": "code",
      "source": [
        "HOST = '95.163.241.236'\n",
        "PORT = 5432\n",
        "DATABASE = 'nordwind'\n",
        "USER = 'student'\n",
        "PASSWORD = 'qweasd963'\n",
        "\n",
        "connection = psycopg2.connect(\n",
        "    host = HOST,\n",
        "    port = PORT,\n",
        "    database = DATABASE,\n",
        "    user = USER,\n",
        "    password = PASSWORD\n",
        ")\n",
        "\n",
        "cursor = connection.cursor()\n",
        "query = \"\"\"SELECT table_name FROM information_schema.tables WHERE table_schema NOT IN ('information_schema','pg_catalog') \"\"\"\n",
        "cursor.execute(query)\n",
        "tables = cursor.fetchall()\n",
        "for table in tables:\n",
        "  print(table[0])\n",
        "\n",
        "connection.clo"
      ],
      "metadata": {
        "colab": {
          "base_uri": "https://localhost:8080/",
          "height": 419
        },
        "id": "rHfDgcMg5c9E",
        "outputId": "34214a7d-04ca-4357-a6ae-124b12155e77"
      },
      "execution_count": null,
      "outputs": [
        {
          "output_type": "stream",
          "name": "stdout",
          "text": [
            "suppliers\n",
            "us_states\n",
            "region\n",
            "categories\n",
            "customer_demographics\n",
            "customer_customer_demo\n",
            "employee_territories\n",
            "order_details\n",
            "customers\n",
            "products\n",
            "shippers\n",
            "employees\n",
            "orders\n",
            "territories\n"
          ]
        },
        {
          "output_type": "error",
          "ename": "AttributeError",
          "evalue": "'psycopg2.extensions.connection' object has no attribute 'clo'",
          "traceback": [
            "\u001b[0;31m---------------------------------------------------------------------------\u001b[0m",
            "\u001b[0;31mAttributeError\u001b[0m                            Traceback (most recent call last)",
            "\u001b[0;32m<ipython-input-106-dfd6ec35f777>\u001b[0m in \u001b[0;36m<cell line: 0>\u001b[0;34m()\u001b[0m\n\u001b[1;32m     20\u001b[0m   \u001b[0mprint\u001b[0m\u001b[0;34m(\u001b[0m\u001b[0mtable\u001b[0m\u001b[0;34m[\u001b[0m\u001b[0;36m0\u001b[0m\u001b[0;34m]\u001b[0m\u001b[0;34m)\u001b[0m\u001b[0;34m\u001b[0m\u001b[0;34m\u001b[0m\u001b[0m\n\u001b[1;32m     21\u001b[0m \u001b[0;34m\u001b[0m\u001b[0m\n\u001b[0;32m---> 22\u001b[0;31m \u001b[0mconnection\u001b[0m\u001b[0;34m.\u001b[0m\u001b[0mclo\u001b[0m\u001b[0;34m\u001b[0m\u001b[0;34m\u001b[0m\u001b[0m\n\u001b[0m",
            "\u001b[0;31mAttributeError\u001b[0m: 'psycopg2.extensions.connection' object has no attribute 'clo'"
          ]
        }
      ]
    },
    {
      "cell_type": "code",
      "source": [
        "# Singleton\n",
        "\n",
        "HOST = '95.163.241.236'\n",
        "PORT = 5432\n",
        "DATABASE = 'nordwind'\n",
        "USER = 'student'\n",
        "PASSWORD = 'qweasd963'\n",
        "\n",
        "class DatabaseConnection:\n",
        "  __instance = None\n",
        "\n",
        "  @staticmethod\n",
        "  def get_instance():\n",
        "    if not DatabaseConnection.__instance:\n",
        "      DatabaseConnection()\n",
        "    return DatabaseConnection.__instance\n",
        "\n",
        "  def __init__(self):\n",
        "    if DatabaseConnection.__instance:\n",
        "      raise Exception(\"Этот класс является Singleton\")\n",
        "    else:\n",
        "      self.connection = psycopg2.connect(host = HOST, port = PORT, database = DATABASE, user = USER, password = PASSWORD)\n",
        "      DatabaseConnection.__instance = self\n",
        "\n",
        "\n",
        "  def get_connection(self):\n",
        "    return self.connetion\n",
        "\n"
      ],
      "metadata": {
        "id": "8TNLqzGC5kbQ"
      },
      "execution_count": null,
      "outputs": []
    },
    {
      "cell_type": "code",
      "source": [
        "# AOD\n",
        "\n",
        "HOST = '95.163.241.236'\n",
        "PORT = 5432\n",
        "DATABASE = 'nordwind'\n",
        "USER = 'student'\n",
        "PASSWORD = 'qweasd963'\n",
        "\n",
        "class DAO:\n",
        "    def __init__(self):\n",
        "        self.connection = psycopg2.connect(host = HOST, port = PORT, database = DATABASE, user = USER, password = PASSWORD)\n",
        "        self.cursor = self.connection.cursor()\n",
        "\n",
        "    def get_all_customers(self):\n",
        "        self.cursor.execute(\"\"\"select * from  customers\"\"\" )\n",
        "        res = self.cursor.fetchall()\n",
        "        return res\n",
        "\n",
        "    def close_connection(self):\n",
        "        self.cursor.close()\n",
        "        self.connection.close()"
      ],
      "metadata": {
        "id": "u8pAtk-y7CbJ"
      },
      "execution_count": null,
      "outputs": []
    },
    {
      "cell_type": "code",
      "source": [
        "customers_dao = DAO()\n",
        "customers_dao.get_all_customers()\n",
        "#customers_dao.close_connection()"
      ],
      "metadata": {
        "colab": {
          "base_uri": "https://localhost:8080/"
        },
        "id": "2HjnCNNc7OkS",
        "outputId": "fafbb976-da04-4640-e6ae-c176accde196"
      },
      "execution_count": null,
      "outputs": [
        {
          "output_type": "execute_result",
          "data": {
            "text/plain": [
              "[('ALFKI',\n",
              "  'Alfreds Futterkiste',\n",
              "  'Maria Anders',\n",
              "  'Sales Representative',\n",
              "  'Obere Str. 57',\n",
              "  'Berlin',\n",
              "  None,\n",
              "  '12209',\n",
              "  'Germany',\n",
              "  '030-0074321',\n",
              "  '030-0076545'),\n",
              " ('ANATR',\n",
              "  'Ana Trujillo Emparedados y helados',\n",
              "  'Ana Trujillo',\n",
              "  'Owner',\n",
              "  'Avda. de la Constitución 2222',\n",
              "  'México D.F.',\n",
              "  None,\n",
              "  '05021',\n",
              "  'Mexico',\n",
              "  '(5) 555-4729',\n",
              "  '(5) 555-3745'),\n",
              " ('ANTON',\n",
              "  'Antonio Moreno Taquería',\n",
              "  'Antonio Moreno',\n",
              "  'Owner',\n",
              "  'Mataderos  2312',\n",
              "  'México D.F.',\n",
              "  None,\n",
              "  '05023',\n",
              "  'Mexico',\n",
              "  '(5) 555-3932',\n",
              "  None),\n",
              " ('AROUT',\n",
              "  'Around the Horn',\n",
              "  'Thomas Hardy',\n",
              "  'Sales Representative',\n",
              "  '120 Hanover Sq.',\n",
              "  'London',\n",
              "  None,\n",
              "  'WA1 1DP',\n",
              "  'UK',\n",
              "  '(171) 555-7788',\n",
              "  '(171) 555-6750'),\n",
              " ('BERGS',\n",
              "  'Berglunds snabbköp',\n",
              "  'Christina Berglund',\n",
              "  'Order Administrator',\n",
              "  'Berguvsvägen  8',\n",
              "  'Luleå',\n",
              "  None,\n",
              "  'S-958 22',\n",
              "  'Sweden',\n",
              "  '0921-12 34 65',\n",
              "  '0921-12 34 67'),\n",
              " ('BLAUS',\n",
              "  'Blauer See Delikatessen',\n",
              "  'Hanna Moos',\n",
              "  'Sales Representative',\n",
              "  'Forsterstr. 57',\n",
              "  'Mannheim',\n",
              "  None,\n",
              "  '68306',\n",
              "  'Germany',\n",
              "  '0621-08460',\n",
              "  '0621-08924'),\n",
              " ('BLONP',\n",
              "  'Blondesddsl père et fils',\n",
              "  'Frédérique Citeaux',\n",
              "  'Marketing Manager',\n",
              "  '24, place Kléber',\n",
              "  'Strasbourg',\n",
              "  None,\n",
              "  '67000',\n",
              "  'France',\n",
              "  '88.60.15.31',\n",
              "  '88.60.15.32'),\n",
              " ('BOLID',\n",
              "  'Bólido Comidas preparadas',\n",
              "  'Martín Sommer',\n",
              "  'Owner',\n",
              "  'C/ Araquil, 67',\n",
              "  'Madrid',\n",
              "  None,\n",
              "  '28023',\n",
              "  'Spain',\n",
              "  '(91) 555 22 82',\n",
              "  '(91) 555 91 99'),\n",
              " ('BONAP',\n",
              "  \"Bon app'\",\n",
              "  'Laurence Lebihan',\n",
              "  'Owner',\n",
              "  '12, rue des Bouchers',\n",
              "  'Marseille',\n",
              "  None,\n",
              "  '13008',\n",
              "  'France',\n",
              "  '91.24.45.40',\n",
              "  '91.24.45.41'),\n",
              " ('BOTTM',\n",
              "  'Bottom-Dollar Markets',\n",
              "  'Elizabeth Lincoln',\n",
              "  'Accounting Manager',\n",
              "  '23 Tsawassen Blvd.',\n",
              "  'Tsawassen',\n",
              "  'BC',\n",
              "  'T2F 8M4',\n",
              "  'Canada',\n",
              "  '(604) 555-4729',\n",
              "  '(604) 555-3745'),\n",
              " ('BSBEV',\n",
              "  \"B's Beverages\",\n",
              "  'Victoria Ashworth',\n",
              "  'Sales Representative',\n",
              "  'Fauntleroy Circus',\n",
              "  'London',\n",
              "  None,\n",
              "  'EC2 5NT',\n",
              "  'UK',\n",
              "  '(171) 555-1212',\n",
              "  None),\n",
              " ('CACTU',\n",
              "  'Cactus Comidas para llevar',\n",
              "  'Patricio Simpson',\n",
              "  'Sales Agent',\n",
              "  'Cerrito 333',\n",
              "  'Buenos Aires',\n",
              "  None,\n",
              "  '1010',\n",
              "  'Argentina',\n",
              "  '(1) 135-5555',\n",
              "  '(1) 135-4892'),\n",
              " ('CENTC',\n",
              "  'Centro comercial Moctezuma',\n",
              "  'Francisco Chang',\n",
              "  'Marketing Manager',\n",
              "  'Sierras de Granada 9993',\n",
              "  'México D.F.',\n",
              "  None,\n",
              "  '05022',\n",
              "  'Mexico',\n",
              "  '(5) 555-3392',\n",
              "  '(5) 555-7293'),\n",
              " ('CHOPS',\n",
              "  'Chop-suey Chinese',\n",
              "  'Yang Wang',\n",
              "  'Owner',\n",
              "  'Hauptstr. 29',\n",
              "  'Bern',\n",
              "  None,\n",
              "  '3012',\n",
              "  'Switzerland',\n",
              "  '0452-076545',\n",
              "  None),\n",
              " ('COMMI',\n",
              "  'Comércio Mineiro',\n",
              "  'Pedro Afonso',\n",
              "  'Sales Associate',\n",
              "  'Av. dos Lusíadas, 23',\n",
              "  'Sao Paulo',\n",
              "  'SP',\n",
              "  '05432-043',\n",
              "  'Brazil',\n",
              "  '(11) 555-7647',\n",
              "  None),\n",
              " ('CONSH',\n",
              "  'Consolidated Holdings',\n",
              "  'Elizabeth Brown',\n",
              "  'Sales Representative',\n",
              "  'Berkeley Gardens 12  Brewery',\n",
              "  'London',\n",
              "  None,\n",
              "  'WX1 6LT',\n",
              "  'UK',\n",
              "  '(171) 555-2282',\n",
              "  '(171) 555-9199'),\n",
              " ('DRACD',\n",
              "  'Drachenblut Delikatessen',\n",
              "  'Sven Ottlieb',\n",
              "  'Order Administrator',\n",
              "  'Walserweg 21',\n",
              "  'Aachen',\n",
              "  None,\n",
              "  '52066',\n",
              "  'Germany',\n",
              "  '0241-039123',\n",
              "  '0241-059428'),\n",
              " ('DUMON',\n",
              "  'Du monde entier',\n",
              "  'Janine Labrune',\n",
              "  'Owner',\n",
              "  '67, rue des Cinquante Otages',\n",
              "  'Nantes',\n",
              "  None,\n",
              "  '44000',\n",
              "  'France',\n",
              "  '40.67.88.88',\n",
              "  '40.67.89.89'),\n",
              " ('EASTC',\n",
              "  'Eastern Connection',\n",
              "  'Ann Devon',\n",
              "  'Sales Agent',\n",
              "  '35 King George',\n",
              "  'London',\n",
              "  None,\n",
              "  'WX3 6FW',\n",
              "  'UK',\n",
              "  '(171) 555-0297',\n",
              "  '(171) 555-3373'),\n",
              " ('ERNSH',\n",
              "  'Ernst Handel',\n",
              "  'Roland Mendel',\n",
              "  'Sales Manager',\n",
              "  'Kirchgasse 6',\n",
              "  'Graz',\n",
              "  None,\n",
              "  '8010',\n",
              "  'Austria',\n",
              "  '7675-3425',\n",
              "  '7675-3426'),\n",
              " ('FAMIA',\n",
              "  'Familia Arquibaldo',\n",
              "  'Aria Cruz',\n",
              "  'Marketing Assistant',\n",
              "  'Rua Orós, 92',\n",
              "  'Sao Paulo',\n",
              "  'SP',\n",
              "  '05442-030',\n",
              "  'Brazil',\n",
              "  '(11) 555-9857',\n",
              "  None),\n",
              " ('FISSA',\n",
              "  'FISSA Fabrica Inter. Salchichas S.A.',\n",
              "  'Diego Roel',\n",
              "  'Accounting Manager',\n",
              "  'C/ Moralzarzal, 86',\n",
              "  'Madrid',\n",
              "  None,\n",
              "  '28034',\n",
              "  'Spain',\n",
              "  '(91) 555 94 44',\n",
              "  '(91) 555 55 93'),\n",
              " ('FOLIG',\n",
              "  'Folies gourmandes',\n",
              "  'Martine Rancé',\n",
              "  'Assistant Sales Agent',\n",
              "  '184, chaussée de Tournai',\n",
              "  'Lille',\n",
              "  None,\n",
              "  '59000',\n",
              "  'France',\n",
              "  '20.16.10.16',\n",
              "  '20.16.10.17'),\n",
              " ('FOLKO',\n",
              "  'Folk och fä HB',\n",
              "  'Maria Larsson',\n",
              "  'Owner',\n",
              "  'Åkergatan 24',\n",
              "  'Bräcke',\n",
              "  None,\n",
              "  'S-844 67',\n",
              "  'Sweden',\n",
              "  '0695-34 67 21',\n",
              "  None),\n",
              " ('FRANK',\n",
              "  'Frankenversand',\n",
              "  'Peter Franken',\n",
              "  'Marketing Manager',\n",
              "  'Berliner Platz 43',\n",
              "  'München',\n",
              "  None,\n",
              "  '80805',\n",
              "  'Germany',\n",
              "  '089-0877310',\n",
              "  '089-0877451'),\n",
              " ('FRANR',\n",
              "  'France restauration',\n",
              "  'Carine Schmitt',\n",
              "  'Marketing Manager',\n",
              "  '54, rue Royale',\n",
              "  'Nantes',\n",
              "  None,\n",
              "  '44000',\n",
              "  'France',\n",
              "  '40.32.21.21',\n",
              "  '40.32.21.20'),\n",
              " ('FRANS',\n",
              "  'Franchi S.p.A.',\n",
              "  'Paolo Accorti',\n",
              "  'Sales Representative',\n",
              "  'Via Monte Bianco 34',\n",
              "  'Torino',\n",
              "  None,\n",
              "  '10100',\n",
              "  'Italy',\n",
              "  '011-4988260',\n",
              "  '011-4988261'),\n",
              " ('FURIB',\n",
              "  'Furia Bacalhau e Frutos do Mar',\n",
              "  'Lino Rodriguez',\n",
              "  'Sales Manager',\n",
              "  'Jardim das rosas n. 32',\n",
              "  'Lisboa',\n",
              "  None,\n",
              "  '1675',\n",
              "  'Portugal',\n",
              "  '(1) 354-2534',\n",
              "  '(1) 354-2535'),\n",
              " ('GALED',\n",
              "  'Galería del gastrónomo',\n",
              "  'Eduardo Saavedra',\n",
              "  'Marketing Manager',\n",
              "  'Rambla de Cataluña, 23',\n",
              "  'Barcelona',\n",
              "  None,\n",
              "  '08022',\n",
              "  'Spain',\n",
              "  '(93) 203 4560',\n",
              "  '(93) 203 4561'),\n",
              " ('GODOS',\n",
              "  'Godos Cocina Típica',\n",
              "  'José Pedro Freyre',\n",
              "  'Sales Manager',\n",
              "  'C/ Romero, 33',\n",
              "  'Sevilla',\n",
              "  None,\n",
              "  '41101',\n",
              "  'Spain',\n",
              "  '(95) 555 82 82',\n",
              "  None),\n",
              " ('GOURL',\n",
              "  'Gourmet Lanchonetes',\n",
              "  'André Fonseca',\n",
              "  'Sales Associate',\n",
              "  'Av. Brasil, 442',\n",
              "  'Campinas',\n",
              "  'SP',\n",
              "  '04876-786',\n",
              "  'Brazil',\n",
              "  '(11) 555-9482',\n",
              "  None),\n",
              " ('GREAL',\n",
              "  'Great Lakes Food Market',\n",
              "  'Howard Snyder',\n",
              "  'Marketing Manager',\n",
              "  '2732 Baker Blvd.',\n",
              "  'Eugene',\n",
              "  'OR',\n",
              "  '97403',\n",
              "  'USA',\n",
              "  '(503) 555-7555',\n",
              "  None),\n",
              " ('GROSR',\n",
              "  'GROSELLA-Restaurante',\n",
              "  'Manuel Pereira',\n",
              "  'Owner',\n",
              "  '5ª Ave. Los Palos Grandes',\n",
              "  'Caracas',\n",
              "  'DF',\n",
              "  '1081',\n",
              "  'Venezuela',\n",
              "  '(2) 283-2951',\n",
              "  '(2) 283-3397'),\n",
              " ('HANAR',\n",
              "  'Hanari Carnes',\n",
              "  'Mario Pontes',\n",
              "  'Accounting Manager',\n",
              "  'Rua do Paço, 67',\n",
              "  'Rio de Janeiro',\n",
              "  'RJ',\n",
              "  '05454-876',\n",
              "  'Brazil',\n",
              "  '(21) 555-0091',\n",
              "  '(21) 555-8765'),\n",
              " ('HILAA',\n",
              "  'HILARION-Abastos',\n",
              "  'Carlos Hernández',\n",
              "  'Sales Representative',\n",
              "  'Carrera 22 con Ave. Carlos Soublette #8-35',\n",
              "  'San Cristóbal',\n",
              "  'Táchira',\n",
              "  '5022',\n",
              "  'Venezuela',\n",
              "  '(5) 555-1340',\n",
              "  '(5) 555-1948'),\n",
              " ('HUNGC',\n",
              "  'Hungry Coyote Import Store',\n",
              "  'Yoshi Latimer',\n",
              "  'Sales Representative',\n",
              "  'City Center Plaza 516 Main St.',\n",
              "  'Elgin',\n",
              "  'OR',\n",
              "  '97827',\n",
              "  'USA',\n",
              "  '(503) 555-6874',\n",
              "  '(503) 555-2376'),\n",
              " ('HUNGO',\n",
              "  'Hungry Owl All-Night Grocers',\n",
              "  'Patricia McKenna',\n",
              "  'Sales Associate',\n",
              "  '8 Johnstown Road',\n",
              "  'Cork',\n",
              "  'Co. Cork',\n",
              "  None,\n",
              "  'Ireland',\n",
              "  '2967 542',\n",
              "  '2967 3333'),\n",
              " ('ISLAT',\n",
              "  'Island Trading',\n",
              "  'Helen Bennett',\n",
              "  'Marketing Manager',\n",
              "  'Garden House Crowther Way',\n",
              "  'Cowes',\n",
              "  'Isle of Wight',\n",
              "  'PO31 7PJ',\n",
              "  'UK',\n",
              "  '(198) 555-8888',\n",
              "  None),\n",
              " ('KOENE',\n",
              "  'Königlich Essen',\n",
              "  'Philip Cramer',\n",
              "  'Sales Associate',\n",
              "  'Maubelstr. 90',\n",
              "  'Brandenburg',\n",
              "  None,\n",
              "  '14776',\n",
              "  'Germany',\n",
              "  '0555-09876',\n",
              "  None),\n",
              " ('LACOR',\n",
              "  \"La corne d'abondance\",\n",
              "  'Daniel Tonini',\n",
              "  'Sales Representative',\n",
              "  \"67, avenue de l'Europe\",\n",
              "  'Versailles',\n",
              "  None,\n",
              "  '78000',\n",
              "  'France',\n",
              "  '30.59.84.10',\n",
              "  '30.59.85.11'),\n",
              " ('LAMAI',\n",
              "  \"La maison d'Asie\",\n",
              "  'Annette Roulet',\n",
              "  'Sales Manager',\n",
              "  '1 rue Alsace-Lorraine',\n",
              "  'Toulouse',\n",
              "  None,\n",
              "  '31000',\n",
              "  'France',\n",
              "  '61.77.61.10',\n",
              "  '61.77.61.11'),\n",
              " ('LAUGB',\n",
              "  'Laughing Bacchus Wine Cellars',\n",
              "  'Yoshi Tannamuri',\n",
              "  'Marketing Assistant',\n",
              "  '1900 Oak St.',\n",
              "  'Vancouver',\n",
              "  'BC',\n",
              "  'V3F 2K1',\n",
              "  'Canada',\n",
              "  '(604) 555-3392',\n",
              "  '(604) 555-7293'),\n",
              " ('LAZYK',\n",
              "  'Lazy K Kountry Store',\n",
              "  'John Steel',\n",
              "  'Marketing Manager',\n",
              "  '12 Orchestra Terrace',\n",
              "  'Walla Walla',\n",
              "  'WA',\n",
              "  '99362',\n",
              "  'USA',\n",
              "  '(509) 555-7969',\n",
              "  '(509) 555-6221'),\n",
              " ('LEHMS',\n",
              "  'Lehmanns Marktstand',\n",
              "  'Renate Messner',\n",
              "  'Sales Representative',\n",
              "  'Magazinweg 7',\n",
              "  'Frankfurt a.M.',\n",
              "  None,\n",
              "  '60528',\n",
              "  'Germany',\n",
              "  '069-0245984',\n",
              "  '069-0245874'),\n",
              " ('LETSS',\n",
              "  \"Let's Stop N Shop\",\n",
              "  'Jaime Yorres',\n",
              "  'Owner',\n",
              "  '87 Polk St. Suite 5',\n",
              "  'San Francisco',\n",
              "  'CA',\n",
              "  '94117',\n",
              "  'USA',\n",
              "  '(415) 555-5938',\n",
              "  None),\n",
              " ('LILAS',\n",
              "  'LILA-Supermercado',\n",
              "  'Carlos González',\n",
              "  'Accounting Manager',\n",
              "  'Carrera 52 con Ave. Bolívar #65-98 Llano Largo',\n",
              "  'Barquisimeto',\n",
              "  'Lara',\n",
              "  '3508',\n",
              "  'Venezuela',\n",
              "  '(9) 331-6954',\n",
              "  '(9) 331-7256'),\n",
              " ('LINOD',\n",
              "  'LINO-Delicateses',\n",
              "  'Felipe Izquierdo',\n",
              "  'Owner',\n",
              "  'Ave. 5 de Mayo Porlamar',\n",
              "  'I. de Margarita',\n",
              "  'Nueva Esparta',\n",
              "  '4980',\n",
              "  'Venezuela',\n",
              "  '(8) 34-56-12',\n",
              "  '(8) 34-93-93'),\n",
              " ('LONEP',\n",
              "  'Lonesome Pine Restaurant',\n",
              "  'Fran Wilson',\n",
              "  'Sales Manager',\n",
              "  '89 Chiaroscuro Rd.',\n",
              "  'Portland',\n",
              "  'OR',\n",
              "  '97219',\n",
              "  'USA',\n",
              "  '(503) 555-9573',\n",
              "  '(503) 555-9646'),\n",
              " ('MAGAA',\n",
              "  'Magazzini Alimentari Riuniti',\n",
              "  'Giovanni Rovelli',\n",
              "  'Marketing Manager',\n",
              "  'Via Ludovico il Moro 22',\n",
              "  'Bergamo',\n",
              "  None,\n",
              "  '24100',\n",
              "  'Italy',\n",
              "  '035-640230',\n",
              "  '035-640231'),\n",
              " ('MAISD',\n",
              "  'Maison Dewey',\n",
              "  'Catherine Dewey',\n",
              "  'Sales Agent',\n",
              "  'Rue Joseph-Bens 532',\n",
              "  'Bruxelles',\n",
              "  None,\n",
              "  'B-1180',\n",
              "  'Belgium',\n",
              "  '(02) 201 24 67',\n",
              "  '(02) 201 24 68'),\n",
              " ('MEREP',\n",
              "  'Mère Paillarde',\n",
              "  'Jean Fresnière',\n",
              "  'Marketing Assistant',\n",
              "  '43 rue St. Laurent',\n",
              "  'Montréal',\n",
              "  'Québec',\n",
              "  'H1J 1C3',\n",
              "  'Canada',\n",
              "  '(514) 555-8054',\n",
              "  '(514) 555-8055'),\n",
              " ('MORGK',\n",
              "  'Morgenstern Gesundkost',\n",
              "  'Alexander Feuer',\n",
              "  'Marketing Assistant',\n",
              "  'Heerstr. 22',\n",
              "  'Leipzig',\n",
              "  None,\n",
              "  '04179',\n",
              "  'Germany',\n",
              "  '0342-023176',\n",
              "  None),\n",
              " ('NORTS',\n",
              "  'North/South',\n",
              "  'Simon Crowther',\n",
              "  'Sales Associate',\n",
              "  'South House 300 Queensbridge',\n",
              "  'London',\n",
              "  None,\n",
              "  'SW7 1RZ',\n",
              "  'UK',\n",
              "  '(171) 555-7733',\n",
              "  '(171) 555-2530'),\n",
              " ('OCEAN',\n",
              "  'Océano Atlántico Ltda.',\n",
              "  'Yvonne Moncada',\n",
              "  'Sales Agent',\n",
              "  'Ing. Gustavo Moncada 8585 Piso 20-A',\n",
              "  'Buenos Aires',\n",
              "  None,\n",
              "  '1010',\n",
              "  'Argentina',\n",
              "  '(1) 135-5333',\n",
              "  '(1) 135-5535'),\n",
              " ('OLDWO',\n",
              "  'Old World Delicatessen',\n",
              "  'Rene Phillips',\n",
              "  'Sales Representative',\n",
              "  '2743 Bering St.',\n",
              "  'Anchorage',\n",
              "  'AK',\n",
              "  '99508',\n",
              "  'USA',\n",
              "  '(907) 555-7584',\n",
              "  '(907) 555-2880'),\n",
              " ('OTTIK',\n",
              "  'Ottilies Käseladen',\n",
              "  'Henriette Pfalzheim',\n",
              "  'Owner',\n",
              "  'Mehrheimerstr. 369',\n",
              "  'Köln',\n",
              "  None,\n",
              "  '50739',\n",
              "  'Germany',\n",
              "  '0221-0644327',\n",
              "  '0221-0765721'),\n",
              " ('PARIS',\n",
              "  'Paris spécialités',\n",
              "  'Marie Bertrand',\n",
              "  'Owner',\n",
              "  '265, boulevard Charonne',\n",
              "  'Paris',\n",
              "  None,\n",
              "  '75012',\n",
              "  'France',\n",
              "  '(1) 42.34.22.66',\n",
              "  '(1) 42.34.22.77'),\n",
              " ('PERIC',\n",
              "  'Pericles Comidas clásicas',\n",
              "  'Guillermo Fernández',\n",
              "  'Sales Representative',\n",
              "  'Calle Dr. Jorge Cash 321',\n",
              "  'México D.F.',\n",
              "  None,\n",
              "  '05033',\n",
              "  'Mexico',\n",
              "  '(5) 552-3745',\n",
              "  '(5) 545-3745'),\n",
              " ('PICCO',\n",
              "  'Piccolo und mehr',\n",
              "  'Georg Pipps',\n",
              "  'Sales Manager',\n",
              "  'Geislweg 14',\n",
              "  'Salzburg',\n",
              "  None,\n",
              "  '5020',\n",
              "  'Austria',\n",
              "  '6562-9722',\n",
              "  '6562-9723'),\n",
              " ('PRINI',\n",
              "  'Princesa Isabel Vinhos',\n",
              "  'Isabel de Castro',\n",
              "  'Sales Representative',\n",
              "  'Estrada da saúde n. 58',\n",
              "  'Lisboa',\n",
              "  None,\n",
              "  '1756',\n",
              "  'Portugal',\n",
              "  '(1) 356-5634',\n",
              "  None),\n",
              " ('QUEDE',\n",
              "  'Que Delícia',\n",
              "  'Bernardo Batista',\n",
              "  'Accounting Manager',\n",
              "  'Rua da Panificadora, 12',\n",
              "  'Rio de Janeiro',\n",
              "  'RJ',\n",
              "  '02389-673',\n",
              "  'Brazil',\n",
              "  '(21) 555-4252',\n",
              "  '(21) 555-4545'),\n",
              " ('QUEEN',\n",
              "  'Queen Cozinha',\n",
              "  'Lúcia Carvalho',\n",
              "  'Marketing Assistant',\n",
              "  'Alameda dos Canàrios, 891',\n",
              "  'Sao Paulo',\n",
              "  'SP',\n",
              "  '05487-020',\n",
              "  'Brazil',\n",
              "  '(11) 555-1189',\n",
              "  None),\n",
              " ('QUICK',\n",
              "  'QUICK-Stop',\n",
              "  'Horst Kloss',\n",
              "  'Accounting Manager',\n",
              "  'Taucherstraße 10',\n",
              "  'Cunewalde',\n",
              "  None,\n",
              "  '01307',\n",
              "  'Germany',\n",
              "  '0372-035188',\n",
              "  None),\n",
              " ('RANCH',\n",
              "  'Rancho grande',\n",
              "  'Sergio Gutiérrez',\n",
              "  'Sales Representative',\n",
              "  'Av. del Libertador 900',\n",
              "  'Buenos Aires',\n",
              "  None,\n",
              "  '1010',\n",
              "  'Argentina',\n",
              "  '(1) 123-5555',\n",
              "  '(1) 123-5556'),\n",
              " ('RATTC',\n",
              "  'Rattlesnake Canyon Grocery',\n",
              "  'Paula Wilson',\n",
              "  'Assistant Sales Representative',\n",
              "  '2817 Milton Dr.',\n",
              "  'Albuquerque',\n",
              "  'NM',\n",
              "  '87110',\n",
              "  'USA',\n",
              "  '(505) 555-5939',\n",
              "  '(505) 555-3620'),\n",
              " ('REGGC',\n",
              "  'Reggiani Caseifici',\n",
              "  'Maurizio Moroni',\n",
              "  'Sales Associate',\n",
              "  'Strada Provinciale 124',\n",
              "  'Reggio Emilia',\n",
              "  None,\n",
              "  '42100',\n",
              "  'Italy',\n",
              "  '0522-556721',\n",
              "  '0522-556722'),\n",
              " ('RICAR',\n",
              "  'Ricardo Adocicados',\n",
              "  'Janete Limeira',\n",
              "  'Assistant Sales Agent',\n",
              "  'Av. Copacabana, 267',\n",
              "  'Rio de Janeiro',\n",
              "  'RJ',\n",
              "  '02389-890',\n",
              "  'Brazil',\n",
              "  '(21) 555-3412',\n",
              "  None),\n",
              " ('RICSU',\n",
              "  'Richter Supermarkt',\n",
              "  'Michael Holz',\n",
              "  'Sales Manager',\n",
              "  'Grenzacherweg 237',\n",
              "  'Genève',\n",
              "  None,\n",
              "  '1203',\n",
              "  'Switzerland',\n",
              "  '0897-034214',\n",
              "  None),\n",
              " ('ROMEY',\n",
              "  'Romero y tomillo',\n",
              "  'Alejandra Camino',\n",
              "  'Accounting Manager',\n",
              "  'Gran Vía, 1',\n",
              "  'Madrid',\n",
              "  None,\n",
              "  '28001',\n",
              "  'Spain',\n",
              "  '(91) 745 6200',\n",
              "  '(91) 745 6210'),\n",
              " ('SANTG',\n",
              "  'Santé Gourmet',\n",
              "  'Jonas Bergulfsen',\n",
              "  'Owner',\n",
              "  'Erling Skakkes gate 78',\n",
              "  'Stavern',\n",
              "  None,\n",
              "  '4110',\n",
              "  'Norway',\n",
              "  '07-98 92 35',\n",
              "  '07-98 92 47'),\n",
              " ('SAVEA',\n",
              "  'Save-a-lot Markets',\n",
              "  'Jose Pavarotti',\n",
              "  'Sales Representative',\n",
              "  '187 Suffolk Ln.',\n",
              "  'Boise',\n",
              "  'ID',\n",
              "  '83720',\n",
              "  'USA',\n",
              "  '(208) 555-8097',\n",
              "  None),\n",
              " ('SEVES',\n",
              "  'Seven Seas Imports',\n",
              "  'Hari Kumar',\n",
              "  'Sales Manager',\n",
              "  '90 Wadhurst Rd.',\n",
              "  'London',\n",
              "  None,\n",
              "  'OX15 4NB',\n",
              "  'UK',\n",
              "  '(171) 555-1717',\n",
              "  '(171) 555-5646'),\n",
              " ('SIMOB',\n",
              "  'Simons bistro',\n",
              "  'Jytte Petersen',\n",
              "  'Owner',\n",
              "  'Vinbæltet 34',\n",
              "  'Kobenhavn',\n",
              "  None,\n",
              "  '1734',\n",
              "  'Denmark',\n",
              "  '31 12 34 56',\n",
              "  '31 13 35 57'),\n",
              " ('SPECD',\n",
              "  'Spécialités du monde',\n",
              "  'Dominique Perrier',\n",
              "  'Marketing Manager',\n",
              "  '25, rue Lauriston',\n",
              "  'Paris',\n",
              "  None,\n",
              "  '75016',\n",
              "  'France',\n",
              "  '(1) 47.55.60.10',\n",
              "  '(1) 47.55.60.20'),\n",
              " ('SPLIR',\n",
              "  'Split Rail Beer & Ale',\n",
              "  'Art Braunschweiger',\n",
              "  'Sales Manager',\n",
              "  'P.O. Box 555',\n",
              "  'Lander',\n",
              "  'WY',\n",
              "  '82520',\n",
              "  'USA',\n",
              "  '(307) 555-4680',\n",
              "  '(307) 555-6525'),\n",
              " ('SUPRD',\n",
              "  'Suprêmes délices',\n",
              "  'Pascale Cartrain',\n",
              "  'Accounting Manager',\n",
              "  'Boulevard Tirou, 255',\n",
              "  'Charleroi',\n",
              "  None,\n",
              "  'B-6000',\n",
              "  'Belgium',\n",
              "  '(071) 23 67 22 20',\n",
              "  '(071) 23 67 22 21'),\n",
              " ('THEBI',\n",
              "  'The Big Cheese',\n",
              "  'Liz Nixon',\n",
              "  'Marketing Manager',\n",
              "  '89 Jefferson Way Suite 2',\n",
              "  'Portland',\n",
              "  'OR',\n",
              "  '97201',\n",
              "  'USA',\n",
              "  '(503) 555-3612',\n",
              "  None),\n",
              " ('THECR',\n",
              "  'The Cracker Box',\n",
              "  'Liu Wong',\n",
              "  'Marketing Assistant',\n",
              "  '55 Grizzly Peak Rd.',\n",
              "  'Butte',\n",
              "  'MT',\n",
              "  '59801',\n",
              "  'USA',\n",
              "  '(406) 555-5834',\n",
              "  '(406) 555-8083'),\n",
              " ('TOMSP',\n",
              "  'Toms Spezialitäten',\n",
              "  'Karin Josephs',\n",
              "  'Marketing Manager',\n",
              "  'Luisenstr. 48',\n",
              "  'Münster',\n",
              "  None,\n",
              "  '44087',\n",
              "  'Germany',\n",
              "  '0251-031259',\n",
              "  '0251-035695'),\n",
              " ('TORTU',\n",
              "  'Tortuga Restaurante',\n",
              "  'Miguel Angel Paolino',\n",
              "  'Owner',\n",
              "  'Avda. Azteca 123',\n",
              "  'México D.F.',\n",
              "  None,\n",
              "  '05033',\n",
              "  'Mexico',\n",
              "  '(5) 555-2933',\n",
              "  None),\n",
              " ('TRADH',\n",
              "  'Tradição Hipermercados',\n",
              "  'Anabela Domingues',\n",
              "  'Sales Representative',\n",
              "  'Av. Inês de Castro, 414',\n",
              "  'Sao Paulo',\n",
              "  'SP',\n",
              "  '05634-030',\n",
              "  'Brazil',\n",
              "  '(11) 555-2167',\n",
              "  '(11) 555-2168'),\n",
              " ('TRAIH',\n",
              "  \"Trail's Head Gourmet Provisioners\",\n",
              "  'Helvetius Nagy',\n",
              "  'Sales Associate',\n",
              "  '722 DaVinci Blvd.',\n",
              "  'Kirkland',\n",
              "  'WA',\n",
              "  '98034',\n",
              "  'USA',\n",
              "  '(206) 555-8257',\n",
              "  '(206) 555-2174'),\n",
              " ('VAFFE',\n",
              "  'Vaffeljernet',\n",
              "  'Palle Ibsen',\n",
              "  'Sales Manager',\n",
              "  'Smagsloget 45',\n",
              "  'Århus',\n",
              "  None,\n",
              "  '8200',\n",
              "  'Denmark',\n",
              "  '86 21 32 43',\n",
              "  '86 22 33 44'),\n",
              " ('VICTE',\n",
              "  'Victuailles en stock',\n",
              "  'Mary Saveley',\n",
              "  'Sales Agent',\n",
              "  '2, rue du Commerce',\n",
              "  'Lyon',\n",
              "  None,\n",
              "  '69004',\n",
              "  'France',\n",
              "  '78.32.54.86',\n",
              "  '78.32.54.87'),\n",
              " ('VINET',\n",
              "  'Vins et alcools Chevalier',\n",
              "  'Paul Henriot',\n",
              "  'Accounting Manager',\n",
              "  \"59 rue de l'Abbaye\",\n",
              "  'Reims',\n",
              "  None,\n",
              "  '51100',\n",
              "  'France',\n",
              "  '26.47.15.10',\n",
              "  '26.47.15.11'),\n",
              " ('WANDK',\n",
              "  'Die Wandernde Kuh',\n",
              "  'Rita Müller',\n",
              "  'Sales Representative',\n",
              "  'Adenauerallee 900',\n",
              "  'Stuttgart',\n",
              "  None,\n",
              "  '70563',\n",
              "  'Germany',\n",
              "  '0711-020361',\n",
              "  '0711-035428'),\n",
              " ('WARTH',\n",
              "  'Wartian Herkku',\n",
              "  'Pirkko Koskitalo',\n",
              "  'Accounting Manager',\n",
              "  'Torikatu 38',\n",
              "  'Oulu',\n",
              "  None,\n",
              "  '90110',\n",
              "  'Finland',\n",
              "  '981-443655',\n",
              "  '981-443655'),\n",
              " ('WELLI',\n",
              "  'Wellington Importadora',\n",
              "  'Paula Parente',\n",
              "  'Sales Manager',\n",
              "  'Rua do Mercado, 12',\n",
              "  'Resende',\n",
              "  'SP',\n",
              "  '08737-363',\n",
              "  'Brazil',\n",
              "  '(14) 555-8122',\n",
              "  None),\n",
              " ('WHITC',\n",
              "  'White Clover Markets',\n",
              "  'Karl Jablonski',\n",
              "  'Owner',\n",
              "  '305 - 14th Ave. S. Suite 3B',\n",
              "  'Seattle',\n",
              "  'WA',\n",
              "  '98128',\n",
              "  'USA',\n",
              "  '(206) 555-4112',\n",
              "  '(206) 555-4115'),\n",
              " ('WILMK',\n",
              "  'Wilman Kala',\n",
              "  'Matti Karttunen',\n",
              "  'Owner/Marketing Assistant',\n",
              "  'Keskuskatu 45',\n",
              "  'Helsinki',\n",
              "  None,\n",
              "  '21240',\n",
              "  'Finland',\n",
              "  '90-224 8858',\n",
              "  '90-224 8858'),\n",
              " ('WOLZA',\n",
              "  'Wolski  Zajazd',\n",
              "  'Zbyszek Piestrzeniewicz',\n",
              "  'Owner',\n",
              "  'ul. Filtrowa 68',\n",
              "  'Warszawa',\n",
              "  None,\n",
              "  '01-012',\n",
              "  'Poland',\n",
              "  '(26) 642-7012',\n",
              "  '(26) 642-7012')]"
            ]
          },
          "metadata": {},
          "execution_count": 33
        }
      ]
    },
    {
      "cell_type": "code",
      "source": [
        "HOST = '95.163.241.236'\n",
        "PORT = 5432\n",
        "DATABASE = 'nordwind'\n",
        "USER = 'student'\n",
        "PASSWORD = 'qweasd963'\n",
        "\n",
        "class DatabaseOperations:\n",
        "    def __init__(self):\n",
        "        self.connection = psycopg2.connect(host = HOST, port = PORT, database = DATABASE, user = USER, password = PASSWORD)\n",
        "        self.cursor = self.connection.cursor()\n",
        "\n",
        "    def get_user_by_address(self, address):\n",
        "        self.cursor.execute(\"\"\"select * from  customers where address = %s\"\"\", (address,) )\n",
        "        res = self.cursor.fetchall()\n",
        "        if res:\n",
        "          for el in res:\n",
        "              print(el)\n",
        "        else: print('Пользователь не найден.')\n",
        "\n",
        "    def close_connection(self):\n",
        "        self.cursor.close()\n",
        "        self.connection.close()"
      ],
      "metadata": {
        "id": "5tt0-Isn7lDY"
      },
      "execution_count": null,
      "outputs": []
    },
    {
      "cell_type": "code",
      "source": [
        "db_operations = DatabaseOperations()\n",
        "db_operations.get_user_by_address('Forsterstr. 57')\n",
        "db_operations.close_connection()"
      ],
      "metadata": {
        "colab": {
          "base_uri": "https://localhost:8080/"
        },
        "id": "tCbEuKnataKW",
        "outputId": "980bb845-388a-4c38-90d0-9a1c66251392"
      },
      "execution_count": null,
      "outputs": [
        {
          "output_type": "stream",
          "name": "stdout",
          "text": [
            "('BLAUS', 'Blauer See Delikatessen', 'Hanna Moos', 'Sales Representative', 'Forsterstr. 57', 'Mannheim', None, '68306', 'Germany', '0621-08460', '0621-08924')\n"
          ]
        }
      ]
    },
    {
      "cell_type": "code",
      "source": [
        "import requests"
      ],
      "metadata": {
        "id": "DmL99b3c4wjZ"
      },
      "execution_count": null,
      "outputs": []
    },
    {
      "cell_type": "code",
      "source": [
        "user_id = 2\n",
        "r = requests.get(f'https://jsonplaceholder.typicode.com//users/{user_id}/posts')"
      ],
      "metadata": {
        "id": "Xe5e-Bs745JT"
      },
      "execution_count": null,
      "outputs": []
    },
    {
      "cell_type": "code",
      "source": [
        "r.status_code"
      ],
      "metadata": {
        "colab": {
          "base_uri": "https://localhost:8080/"
        },
        "id": "5jfRjGBv5DHT",
        "outputId": "2dbe47f9-83e6-42f5-c591-8924a6e02e07"
      },
      "execution_count": null,
      "outputs": [
        {
          "output_type": "execute_result",
          "data": {
            "text/plain": [
              "200"
            ]
          },
          "metadata": {},
          "execution_count": 4
        }
      ]
    },
    {
      "cell_type": "code",
      "source": [
        "r.text"
      ],
      "metadata": {
        "colab": {
          "base_uri": "https://localhost:8080/",
          "height": 105
        },
        "id": "SYYph4Y05HXT",
        "outputId": "e4e1032d-61ff-4548-d4c6-797c2a25f382"
      },
      "execution_count": null,
      "outputs": [
        {
          "output_type": "execute_result",
          "data": {
            "text/plain": [
              "'[\\n  {\\n    \"userId\": 2,\\n    \"id\": 11,\\n    \"title\": \"et ea vero quia laudantium autem\",\\n    \"body\": \"delectus reiciendis molestiae occaecati non minima eveniet qui voluptatibus\\\\naccusamus in eum beatae sit\\\\nvel qui neque voluptates ut commodi qui incidunt\\\\nut animi commodi\"\\n  },\\n  {\\n    \"userId\": 2,\\n    \"id\": 12,\\n    \"title\": \"in quibusdam tempore odit est dolorem\",\\n    \"body\": \"itaque id aut magnam\\\\npraesentium quia et ea odit et ea voluptas et\\\\nsapiente quia nihil amet occaecati quia id voluptatem\\\\nincidunt ea est distinctio odio\"\\n  },\\n  {\\n    \"userId\": 2,\\n    \"id\": 13,\\n    \"title\": \"dolorum ut in voluptas mollitia et saepe quo animi\",\\n    \"body\": \"aut dicta possimus sint mollitia voluptas commodi quo doloremque\\\\niste corrupti reiciendis voluptatem eius rerum\\\\nsit cumque quod eligendi laborum minima\\\\nperferendis recusandae assumenda consectetur porro architecto ipsum ipsam\"\\n  },\\n  {\\n    \"userId\": 2,\\n    \"id\": 14,\\n    \"title\": \"voluptatem eligendi optio\",\\n    \"body\": \"fuga et accusamus dolorum perferendis illo voluptas\\\\nnon doloremque neque facere\\\\nad qui dolorum molestiae beatae\\\\nsed aut voluptas totam sit illum\"\\n  },\\n  {\\n    \"userId\": 2,\\n    \"id\": 15,\\n    \"title\": \"eveniet quod temporibus\",\\n    \"body\": \"reprehenderit quos placeat\\\\nvelit minima officia dolores impedit repudiandae molestiae nam\\\\nvoluptas recusandae quis delectus\\\\nofficiis harum fugiat vitae\"\\n  },\\n  {\\n    \"userId\": 2,\\n    \"id\": 16,\\n    \"title\": \"sint suscipit perspiciatis velit dolorum rerum ipsa laboriosam odio\",\\n    \"body\": \"suscipit nam nisi quo aperiam aut\\\\nasperiores eos fugit maiores voluptatibus quia\\\\nvoluptatem quis ullam qui in alias quia est\\\\nconsequatur magni mollitia accusamus ea nisi voluptate dicta\"\\n  },\\n  {\\n    \"userId\": 2,\\n    \"id\": 17,\\n    \"title\": \"fugit voluptas sed molestias voluptatem provident\",\\n    \"body\": \"eos voluptas et aut odit natus earum\\\\naspernatur fuga molestiae ullam\\\\ndeserunt ratione qui eos\\\\nqui nihil ratione nemo velit ut aut id quo\"\\n  },\\n  {\\n    \"userId\": 2,\\n    \"id\": 18,\\n    \"title\": \"voluptate et itaque vero tempora molestiae\",\\n    \"body\": \"eveniet quo quis\\\\nlaborum totam consequatur non dolor\\\\nut et est repudiandae\\\\nest voluptatem vel debitis et magnam\"\\n  },\\n  {\\n    \"userId\": 2,\\n    \"id\": 19,\\n    \"title\": \"adipisci placeat illum aut reiciendis qui\",\\n    \"body\": \"illum quis cupiditate provident sit magnam\\\\nea sed aut omnis\\\\nveniam maiores ullam consequatur atque\\\\nadipisci quo iste expedita sit quos voluptas\"\\n  },\\n  {\\n    \"userId\": 2,\\n    \"id\": 20,\\n    \"title\": \"doloribus ad provident suscipit at\",\\n    \"body\": \"qui consequuntur ducimus possimus quisquam amet similique\\\\nsuscipit porro ipsam amet\\\\neos veritatis officiis exercitationem vel fugit aut necessitatibus totam\\\\nomnis rerum consequatur expedita quidem cumque explicabo\"\\n  }\\n]'"
            ],
            "application/vnd.google.colaboratory.intrinsic+json": {
              "type": "string"
            }
          },
          "metadata": {},
          "execution_count": 9
        }
      ]
    },
    {
      "cell_type": "code",
      "source": [
        "def get_user_posts(**kwargs):\n",
        "    r = requests.get(f\"https://jsonplaceholder.typicode.com//users/{kwargs.get('user_id')}/posts?title={kwargs.get('keyword')}\")\n",
        "    return r.json()"
      ],
      "metadata": {
        "id": "9ezv1V235hg8"
      },
      "execution_count": null,
      "outputs": []
    },
    {
      "cell_type": "code",
      "source": [
        "get_user_posts(1, 'qui est esse')"
      ],
      "metadata": {
        "colab": {
          "base_uri": "https://localhost:8080/"
        },
        "id": "QEx-GL399dEb",
        "outputId": "f02672a7-a199-4c1b-ba53-a4a90f42eceb"
      },
      "execution_count": null,
      "outputs": [
        {
          "output_type": "execute_result",
          "data": {
            "text/plain": [
              "[{'userId': 1,\n",
              "  'id': 2,\n",
              "  'title': 'qui est esse',\n",
              "  'body': 'est rerum tempore vitae\\nsequi sint nihil reprehenderit dolor beatae ea dolores neque\\nfugiat blanditiis voluptate porro vel nihil molestiae ut reiciendis\\nqui aperiam non debitis possimus qui neque nisi nulla'}]"
            ]
          },
          "metadata": {},
          "execution_count": 18
        }
      ]
    },
    {
      "cell_type": "code",
      "source": [
        "get_user_posts(user_id = 1, keyword = 'qui est esse')"
      ],
      "metadata": {
        "colab": {
          "base_uri": "https://localhost:8080/"
        },
        "id": "b2csOfOE-O-3",
        "outputId": "2fc25946-c810-43d8-ddd1-1fd17a1d8365"
      },
      "execution_count": null,
      "outputs": [
        {
          "output_type": "execute_result",
          "data": {
            "text/plain": [
              "[{'userId': 1,\n",
              "  'id': 2,\n",
              "  'title': 'qui est esse',\n",
              "  'body': 'est rerum tempore vitae\\nsequi sint nihil reprehenderit dolor beatae ea dolores neque\\nfugiat blanditiis voluptate porro vel nihil molestiae ut reiciendis\\nqui aperiam non debitis possimus qui neque nisi nulla'}]"
            ]
          },
          "metadata": {},
          "execution_count": 21
        }
      ]
    },
    {
      "cell_type": "code",
      "source": [
        "print(get_user_posts(user_id = 1, keyword = 'qui est esse'))"
      ],
      "metadata": {
        "colab": {
          "base_uri": "https://localhost:8080/"
        },
        "id": "W2kUhf-P-5vy",
        "outputId": "e8f35e3f-6f35-493c-d688-25230cf826d2"
      },
      "execution_count": null,
      "outputs": [
        {
          "output_type": "stream",
          "name": "stdout",
          "text": [
            "[{'userId': 1, 'id': 2, 'title': 'qui est esse', 'body': 'est rerum tempore vitae\\nsequi sint nihil reprehenderit dolor beatae ea dolores neque\\nfugiat blanditiis voluptate porro vel nihil molestiae ut reiciendis\\nqui aperiam non debitis possimus qui neque nisi nulla'}]\n"
          ]
        }
      ]
    },
    {
      "cell_type": "code",
      "source": [
        "def get_user_posts(**kwargs):\n",
        "    if kwargs.get('keyword'):\n",
        "      r = requests.get(f\"https://jsonplaceholder.typicode.com//users/{kwargs.get('user_id')}/posts?title={kwargs.get('keyword')}\")\n",
        "\n",
        "    else: r = requests.get(f\"https://jsonplaceholder.typicode.com//users/{kwargs.get('user_id')}/posts\")\n",
        "    return r.json()"
      ],
      "metadata": {
        "id": "SrwZY98m_xAt"
      },
      "execution_count": null,
      "outputs": []
    },
    {
      "cell_type": "code",
      "source": [
        "print(get_user_posts(user_id = 1))"
      ],
      "metadata": {
        "colab": {
          "base_uri": "https://localhost:8080/"
        },
        "id": "52_7KvUr_-g5",
        "outputId": "33c2233a-8d3e-4bc8-954f-95fbf1d01d79"
      },
      "execution_count": null,
      "outputs": [
        {
          "output_type": "stream",
          "name": "stdout",
          "text": [
            "[{'userId': 2, 'id': 11, 'title': 'et ea vero quia laudantium autem', 'body': 'delectus reiciendis molestiae occaecati non minima eveniet qui voluptatibus\\naccusamus in eum beatae sit\\nvel qui neque voluptates ut commodi qui incidunt\\nut animi commodi'}, {'userId': 2, 'id': 12, 'title': 'in quibusdam tempore odit est dolorem', 'body': 'itaque id aut magnam\\npraesentium quia et ea odit et ea voluptas et\\nsapiente quia nihil amet occaecati quia id voluptatem\\nincidunt ea est distinctio odio'}, {'userId': 2, 'id': 13, 'title': 'dolorum ut in voluptas mollitia et saepe quo animi', 'body': 'aut dicta possimus sint mollitia voluptas commodi quo doloremque\\niste corrupti reiciendis voluptatem eius rerum\\nsit cumque quod eligendi laborum minima\\nperferendis recusandae assumenda consectetur porro architecto ipsum ipsam'}, {'userId': 2, 'id': 14, 'title': 'voluptatem eligendi optio', 'body': 'fuga et accusamus dolorum perferendis illo voluptas\\nnon doloremque neque facere\\nad qui dolorum molestiae beatae\\nsed aut voluptas totam sit illum'}, {'userId': 2, 'id': 15, 'title': 'eveniet quod temporibus', 'body': 'reprehenderit quos placeat\\nvelit minima officia dolores impedit repudiandae molestiae nam\\nvoluptas recusandae quis delectus\\nofficiis harum fugiat vitae'}, {'userId': 2, 'id': 16, 'title': 'sint suscipit perspiciatis velit dolorum rerum ipsa laboriosam odio', 'body': 'suscipit nam nisi quo aperiam aut\\nasperiores eos fugit maiores voluptatibus quia\\nvoluptatem quis ullam qui in alias quia est\\nconsequatur magni mollitia accusamus ea nisi voluptate dicta'}, {'userId': 2, 'id': 17, 'title': 'fugit voluptas sed molestias voluptatem provident', 'body': 'eos voluptas et aut odit natus earum\\naspernatur fuga molestiae ullam\\ndeserunt ratione qui eos\\nqui nihil ratione nemo velit ut aut id quo'}, {'userId': 2, 'id': 18, 'title': 'voluptate et itaque vero tempora molestiae', 'body': 'eveniet quo quis\\nlaborum totam consequatur non dolor\\nut et est repudiandae\\nest voluptatem vel debitis et magnam'}, {'userId': 2, 'id': 19, 'title': 'adipisci placeat illum aut reiciendis qui', 'body': 'illum quis cupiditate provident sit magnam\\nea sed aut omnis\\nveniam maiores ullam consequatur atque\\nadipisci quo iste expedita sit quos voluptas'}, {'userId': 2, 'id': 20, 'title': 'doloribus ad provident suscipit at', 'body': 'qui consequuntur ducimus possimus quisquam amet similique\\nsuscipit porro ipsam amet\\neos veritatis officiis exercitationem vel fugit aut necessitatibus totam\\nomnis rerum consequatur expedita quidem cumque explicabo'}]\n"
          ]
        }
      ]
    },
    {
      "cell_type": "code",
      "source": [
        "def create_blog_post(title, body, user_id):\n",
        "  payload = {'title': title, 'body': body, 'user_id': user_id }\n",
        "  r = requests.post('https://jsonplaceholder.typicode.com/posts', data= payload)\n",
        "  return r.json()"
      ],
      "metadata": {
        "id": "6lj_xzaNAqAm"
      },
      "execution_count": null,
      "outputs": []
    },
    {
      "cell_type": "code",
      "source": [],
      "metadata": {
        "id": "lqm7hXH2RUCC"
      },
      "execution_count": null,
      "outputs": []
    }
  ]
}